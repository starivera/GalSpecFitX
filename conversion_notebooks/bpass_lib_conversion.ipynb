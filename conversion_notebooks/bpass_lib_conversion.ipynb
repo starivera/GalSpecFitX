{
 "cells": [
  {
   "cell_type": "markdown",
   "id": "c6a972e5",
   "metadata": {},
   "source": [
    "This notebook converts **BPASS** `.dat` output files into FITS format compatible with **GalspecFitX**. The **BPASS** v2.2.1 models are available [here](https://bpass.auckland.ac.nz/9.html).\n",
    "\n",
    "For guidance on converting **Starburst99** templates, see the `starburst99_conversion` notebook.\n",
    "\n",
    "Instructions for incorporating new **Starburst99** and **BPASS** templates into the existing **GalspecFitX** libraries can be found in *Rivera et al. (2025)*."
   ]
  },
  {
   "cell_type": "markdown",
   "id": "4d98c2cc",
   "metadata": {},
   "source": [
    "## Imports"
   ]
  },
  {
   "cell_type": "code",
   "execution_count": 1,
   "id": "9c8dd82e",
   "metadata": {},
   "outputs": [],
   "source": [
    "import os\n",
    "import numpy as np\n",
    "from astropy.io import fits"
   ]
  },
  {
   "cell_type": "markdown",
   "id": "efb2039b",
   "metadata": {},
   "source": [
    "## Functions"
   ]
  },
  {
   "cell_type": "code",
   "execution_count": 2,
   "id": "9967a38a",
   "metadata": {},
   "outputs": [],
   "source": [
    "def file_to_lam(filename, output_path, bpass_ver):\n",
    "    \"\"\"\n",
    "    Converts a tab-delimited text file containing BPASS model output into a FITS file \n",
    "    containing the wavelength array. This function is designed for compatibility with \n",
    "    the GalSpecFitX library.\n",
    "\n",
    "    Parameters:\n",
    "    ----------\n",
    "    filename : str\n",
    "        Path to the input text file containing BPASS spectral data.\n",
    "    output_path : str\n",
    "        Directory where the output FITS file will be saved.\n",
    "    bpass_ver : str\n",
    "        Version identifier for the BPASS model (used in naming the output file).\n",
    "\n",
    "    Returns:\n",
    "    -------\n",
    "    None\n",
    "\n",
    "    Notes:\n",
    "    -----\n",
    "    - Only the first column of data is extracted and saved (typically wavelength).\n",
    "    - Assumes each line of the input file is tab-separated.\n",
    "    - The output FITS file is saved as: <output_path>/bpassv<bpass_ver>_lam.fits.\n",
    "    \"\"\"\n",
    "    \n",
    "    with open(filename) as file:\n",
    "        lines = [line.split('\\t')[0] for line in file]\n",
    "        \n",
    "    data = np.loadtxt(lines)\n",
    "    \n",
    "    new_hdul = fits.HDUList()\n",
    "    new_hdul.append(fits.PrimaryHDU(data[:, 0]))\n",
    "    \n",
    "    bpass_lam_file = f\"bpass_v{bpass_ver}_lam.fits\"\n",
    "    new_hdul.writeto(f\"{output_path}/{bpass_lam_file}\",overwrite=True)     \n",
    "    \n",
    "    return bpass_lam_file"
   ]
  },
  {
   "cell_type": "code",
   "execution_count": 3,
   "id": "1676e9c5",
   "metadata": {},
   "outputs": [],
   "source": [
    "def file_to_temp(lam, filename, output_path, star_form, star_evol, IMF_name, bpass_ver, Z, ages):\n",
    "    \"\"\"\n",
    "    Converts tab-delimited spectral data from a BPASS model output file into individual FITS files \n",
    "    for different stellar population ages.\n",
    "\n",
    "    Parameters:\n",
    "    ----------\n",
    "    lam : array_like\n",
    "        Wavelength grid (used to segment the data by age).\n",
    "    filename : str\n",
    "        Path to the input file containing spectral data.\n",
    "    output_path : str\n",
    "        Root directory where the output FITS files will be saved.\n",
    "    star_form : str\n",
    "        Star formation history identifier (used in output file naming).\n",
    "    star_evol : str\n",
    "        Stellar evolution model identifier (used in output file naming).\n",
    "    IMF_name : str\n",
    "        Initial Mass Function identifier (used in output file naming).\n",
    "    bpass_ver : str\n",
    "        Version of the BPASS model used (included in output file naming).\n",
    "    Z : str\n",
    "        Metallicity value as a string (used in output file naming).\n",
    "    ages : list of str\n",
    "        List of age strings corresponding to different time steps in the model (used in output file naming).\n",
    "\n",
    "    Notes:\n",
    "    -----\n",
    "    - Assumes the input file is tab-delimited and each column (after the first) represents data at a specific age.\n",
    "    - Only the first tab-separated value from each line is used (likely path or relevant numerical value).\n",
    "    - FITS files are saved using the format:\n",
    "      'BPASS_{bpass_ver}_{star_form[:4]}_{star_evol[:3]}_{IMF_name}.Zp{Z}T{age}.fits'\n",
    "    - Existing FITS files with the same name will be overwritten.\n",
    "    \"\"\"\n",
    "\n",
    "    with open(filename) as file:\n",
    "        lines = [line.split('\\t')[0] for line in file]\n",
    "        \n",
    "    data = np.loadtxt(lines)\n",
    "    \n",
    "    for i in np.arange(0, len(ages)):\n",
    "        new_hdul = fits.HDUList()\n",
    "        new_hdul.append(fits.PrimaryHDU(data[:, i+1]))\n",
    "        new_hdul.writeto(os.path.join(output_path, star_form, star_evol, IMF_name, f\"BPASS_{bpass_ver}_{star_form[:4]}_{star_evol[:3]}_{IMF_name}.Zp{Z}T{ages[i]}.fits\"),overwrite=True)"
   ]
  },
  {
   "cell_type": "code",
   "execution_count": 4,
   "id": "baa20bfc",
   "metadata": {},
   "outputs": [],
   "source": [
    "def get_filename_for_m(star_evol, IMF_name, m):\n",
    "    \"\"\"\n",
    "    Generate the appropriate filename for a given metallicity value `m`, using the provided\n",
    "    stellar evolution model and initial mass function (IMF) name.\n",
    "\n",
    "    Parameters:\n",
    "    - star_evol (str): The stellar evolution model name (e.g., \"single\", \"binary\").\n",
    "    - IMF_name (str): The initial mass function name (e.g., \"imf135all_100\").\n",
    "    - m (str or float): The metallicity value, which can be a float or string (e.g., \"0.020\", \"0.0001\", or \"1e-4\").\n",
    "\n",
    "    Returns:\n",
    "    - str: The corresponding filename, formatted as:\n",
    "        - For m >= 0.001: 'spectra-{star_evol[:3]}-{IMF_name}.zXXX.dat'\n",
    "          where XXX is metallicity × 1000, zero-padded to 3 digits.\n",
    "        - For m < 0.001: 'spectra-{star_evol[:3]}-{IMF_name}.zemX.dat'\n",
    "          where X is the absolute value of the exponent in scientific notation.\n",
    "    \"\"\"\n",
    "    m_float = float(m)\n",
    "    if m_float >= 0.001:\n",
    "        m_int = int(round(m_float * 1000))\n",
    "        return f\"spectra-{star_evol[:3]}-{IMF_name}.z{m_int:03d}.dat\"\n",
    "    else:\n",
    "        exp = int(f\"{m_float:.0e}\".split('e')[1])  # Extract exponent from scientific notation\n",
    "        return f\"spectra-{star_evol[:3]}-{IMF_name}.zem{-exp}.dat\"   "
   ]
  },
  {
   "cell_type": "markdown",
   "id": "0dd7fb9c",
   "metadata": {},
   "source": [
    "### Set Parameters"
   ]
  },
  {
   "cell_type": "markdown",
   "id": "016c6dc0",
   "metadata": {},
   "source": [
    "The directory structure of the GalspecFitX library is broken down in Rivera et. a (2025). Please keep in mind that the following parameter strings should correspond to the name of an existing directory or will be used to identify the .dat files or for filenaming. "
   ]
  },
  {
   "cell_type": "code",
   "execution_count": 5,
   "id": "9751ce05",
   "metadata": {},
   "outputs": [],
   "source": [
    "# Main directory to contain BPASS templates\n",
    "output_path = '/grp/hst/wfc3i/irivera/tsrc/GalSpecFitX/full_suite/BPASS/'"
   ]
  },
  {
   "cell_type": "code",
   "execution_count": 6,
   "id": "69518bbc",
   "metadata": {},
   "outputs": [],
   "source": [
    "# Sub-directory names\n",
    "star_form = 'instantaneous' # star formation (e.g. 'instantaneous' or 'continuous')\n",
    "star_evol = 'binary' # star evolution (e.g. single or binary)\n",
    "IMF_name = 'imf170_300' # Follows the naming convention of the .dat files"
   ]
  },
  {
   "cell_type": "code",
   "execution_count": 7,
   "id": "d26f5d7b",
   "metadata": {},
   "outputs": [],
   "source": [
    "# BPASS version used to name file containing wavelength array (bpass_lam_file)\n",
    "bpass_ver = '2.2.1'\n",
    "\n",
    "# Metallicities - these labels are used to name the templates\n",
    "metallicities = [\"1e-4\",\"1e-5\", \"0.001\", \"0.002\", \"0.003\", \"0.004\", \"0.006\", \"0.008\", \"0.010\", \"0.014\", \"0.020\", \"0.030\", \"0.040\"]"
   ]
  },
  {
   "cell_type": "markdown",
   "id": "dc9bcfac",
   "metadata": {},
   "source": [
    "## Format the ages "
   ]
  },
  {
   "cell_type": "markdown",
   "id": "aa283754",
   "metadata": {},
   "source": [
    "The ages were created following the instructions in the BPASSv2.2.1_Manual.pdf, as quoted:\n",
    "\"Each file has 52 columns and 106 rows. The first column lists a wavelength in angstroms,\n",
    "and each remaining column n (n>1) holds the model flux for the population at an age of\n",
    "10^(6+0.1*(n-2)) years at that wavelength.\"\n",
    "\n",
    "Ages are converted to Gyr."
   ]
  },
  {
   "cell_type": "code",
   "execution_count": 8,
   "id": "d00fb9a1",
   "metadata": {},
   "outputs": [],
   "source": [
    "# Path to .dat files for one star formation, star evolution, and IMF with the only difference between the .dat files being the metallicities.\n",
    "dat_file_path = f'../../BPASS/bpass_templates/{star_evol}/{IMF_name}/'\n",
    "one_dat_file = get_filename_for_m(star_evol, IMF_name, metallicities[0])\n",
    "one_dat_file_path = f'{dat_file_path}/{one_dat_file}'\n",
    "\n",
    "with open(one_dat_file_path) as file:\n",
    "    lines = [line.split('\\t')[0] for line in file]\n",
    "    \n",
    "    data = np.loadtxt(lines)"
   ]
  },
  {
   "cell_type": "code",
   "execution_count": 9,
   "id": "00126523",
   "metadata": {},
   "outputs": [],
   "source": [
    "ages = []\n",
    "    \n",
    "for n in np.arange(2, data.shape[1]+1):\n",
    "    ages.append((10**(6+0.1*(n-2))) / 1e9)"
   ]
  },
  {
   "cell_type": "code",
   "execution_count": 10,
   "id": "92bf4522",
   "metadata": {
    "scrolled": true
   },
   "outputs": [
    {
     "data": {
      "text/plain": [
       "[0.001,\n",
       " 0.0012589254117941662,\n",
       " 0.001584893192461114,\n",
       " 0.001995262314968879,\n",
       " 0.0025118864315095825,\n",
       " 0.0031622776601683794,\n",
       " 0.003981071705534969,\n",
       " 0.005011872336272725,\n",
       " 0.00630957344480193,\n",
       " 0.007943282347242822,\n",
       " 0.01,\n",
       " 0.012589254117941663,\n",
       " 0.01584893192461114,\n",
       " 0.01995262314968879,\n",
       " 0.025118864315095822,\n",
       " 0.03162277660168379,\n",
       " 0.03981071705534969,\n",
       " 0.05011872336272725,\n",
       " 0.0630957344480193,\n",
       " 0.07943282347242822,\n",
       " 0.1,\n",
       " 0.12589254117941662,\n",
       " 0.1584893192461111,\n",
       " 0.19952623149688828,\n",
       " 0.25118864315095824,\n",
       " 0.31622776601683794,\n",
       " 0.39810717055349687,\n",
       " 0.5011872336272715,\n",
       " 0.6309573444801944,\n",
       " 0.7943282347242822,\n",
       " 1.0,\n",
       " 1.2589254117941662,\n",
       " 1.584893192461111,\n",
       " 1.9952623149688828,\n",
       " 2.511886431509582,\n",
       " 3.1622776601683795,\n",
       " 3.981071705534969,\n",
       " 5.011872336272715,\n",
       " 6.309573444801943,\n",
       " 7.943282347242822,\n",
       " 10.0,\n",
       " 12.589254117941714,\n",
       " 15.848931924611108,\n",
       " 19.952623149688826,\n",
       " 25.11886431509582,\n",
       " 31.622776601683793,\n",
       " 39.810717055349855,\n",
       " 50.11872336272715,\n",
       " 63.09573444801943,\n",
       " 79.43282347242823,\n",
       " 100.0]"
      ]
     },
     "execution_count": 10,
     "metadata": {},
     "output_type": "execute_result"
    }
   ],
   "source": [
    "ages"
   ]
  },
  {
   "cell_type": "markdown",
   "id": "d75eeb3c",
   "metadata": {},
   "source": [
    "## Create the wavelength array and check the range for consistency"
   ]
  },
  {
   "cell_type": "markdown",
   "id": "6072c0c1",
   "metadata": {},
   "source": [
    "Use one .dat file to create the wavelength file. It shouldn't matter which since all the templates should have the same wavelength sampling."
   ]
  },
  {
   "cell_type": "code",
   "execution_count": 11,
   "id": "64ab5e18",
   "metadata": {},
   "outputs": [],
   "source": [
    "bpass_lam_file = file_to_lam(one_dat_file_path, output_path, bpass_ver)"
   ]
  },
  {
   "cell_type": "code",
   "execution_count": 12,
   "id": "0de978c1",
   "metadata": {},
   "outputs": [],
   "source": [
    "bpass_lam = fits.getdata(f\"{output_path}/{bpass_lam_file}\")"
   ]
  },
  {
   "cell_type": "code",
   "execution_count": 13,
   "id": "daa48e21",
   "metadata": {},
   "outputs": [
    {
     "data": {
      "text/plain": [
       "array([1.0000e+00, 2.0000e+00, 3.0000e+00, ..., 9.9998e+04, 9.9999e+04,\n",
       "       1.0000e+05], dtype='>f8')"
      ]
     },
     "execution_count": 13,
     "metadata": {},
     "output_type": "execute_result"
    }
   ],
   "source": [
    "# Comparing this to what you expect was extracted from the .dat file is a good way to confirm correctness\n",
    "bpass_lam"
   ]
  },
  {
   "cell_type": "code",
   "execution_count": 14,
   "id": "5ba1685e-c5bd-4182-904e-aaf1e17020ea",
   "metadata": {
    "frozen": false
   },
   "outputs": [
    {
     "data": {
      "text/plain": [
       "(1.0, 100000.0)"
      ]
     },
     "execution_count": 14,
     "metadata": {},
     "output_type": "execute_result"
    }
   ],
   "source": [
    "bpass_lam[0], bpass_lam[-1]"
   ]
  },
  {
   "cell_type": "code",
   "execution_count": 15,
   "id": "a6f39ea8-f290-4a59-bcbd-44b696be5009",
   "metadata": {
    "frozen": false
   },
   "outputs": [
    {
     "data": {
      "text/plain": [
       "100000"
      ]
     },
     "execution_count": 15,
     "metadata": {},
     "output_type": "execute_result"
    }
   ],
   "source": [
    "len(bpass_lam)"
   ]
  },
  {
   "cell_type": "markdown",
   "id": "2b5ec792",
   "metadata": {},
   "source": [
    "## Create spectral templates from BPASS data files for use in GalSpecFitX"
   ]
  },
  {
   "cell_type": "markdown",
   "id": "c184fff4",
   "metadata": {},
   "source": [
    "The loop below converts the fluxes column in the .dat files into FITS files for use in the code. This expects one star formation, star evolution, and IMF with the only difference between the .dat files being the metallicities."
   ]
  },
  {
   "cell_type": "code",
   "execution_count": 16,
   "id": "c30e27b2",
   "metadata": {},
   "outputs": [],
   "source": [
    "for m in metallicities:\n",
    "    file_name = get_filename_for_m(star_evol, IMF_name, m)\n",
    "    file_path = f\"{dat_file_path}/{file_name}\"\n",
    "    file_to_temp(bpass_lam, file_path, output_path, star_form, star_evol, IMF_name, bpass_ver, str(m), ages)"
   ]
  },
  {
   "cell_type": "code",
   "execution_count": 17,
   "id": "076dbc5f",
   "metadata": {},
   "outputs": [
    {
     "data": {
      "text/plain": [
       "array([2.317866e-40, 2.317866e-40, 2.317866e-40, ..., 2.286993e-02,\n",
       "       2.286902e-02, 2.286811e-02], dtype='>f8')"
      ]
     },
     "execution_count": 17,
     "metadata": {},
     "output_type": "execute_result"
    }
   ],
   "source": [
    "# Again another way to verify correctness is compare one template with its original .dat file\n",
    "fits.getdata(f\"{output_path}/{star_form}/{star_evol}/{IMF_name}/BPASS_{bpass_ver}_{star_form[:4]}_{star_evol[:3]}_{IMF_name}.Zp{metallicities[0]}T{ages[0]}.fits\")"
   ]
  },
  {
   "cell_type": "code",
   "execution_count": null,
   "id": "65a24b9a",
   "metadata": {},
   "outputs": [],
   "source": []
  }
 ],
 "metadata": {
  "kernelspec": {
   "display_name": "Python 3 (ipykernel)",
   "language": "python",
   "name": "python3"
  },
  "language_info": {
   "codemirror_mode": {
    "name": "ipython",
    "version": 3
   },
   "file_extension": ".py",
   "mimetype": "text/x-python",
   "name": "python",
   "nbconvert_exporter": "python",
   "pygments_lexer": "ipython3",
   "version": "3.11.5"
  }
 },
 "nbformat": 4,
 "nbformat_minor": 5
}
